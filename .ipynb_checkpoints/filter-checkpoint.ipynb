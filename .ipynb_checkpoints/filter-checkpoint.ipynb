{
 "cells": [
  {
   "cell_type": "code",
   "execution_count": 92,
   "metadata": {},
   "outputs": [
    {
     "data": {
      "text/html": [
       "<div>\n",
       "<style scoped>\n",
       "    .dataframe tbody tr th:only-of-type {\n",
       "        vertical-align: middle;\n",
       "    }\n",
       "\n",
       "    .dataframe tbody tr th {\n",
       "        vertical-align: top;\n",
       "    }\n",
       "\n",
       "    .dataframe thead th {\n",
       "        text-align: right;\n",
       "    }\n",
       "</style>\n",
       "<table border=\"1\" class=\"dataframe\">\n",
       "  <thead>\n",
       "    <tr style=\"text-align: right;\">\n",
       "      <th></th>\n",
       "      <th>AuthorID</th>\n",
       "      <th>Author</th>\n",
       "      <th>Date</th>\n",
       "      <th>Content</th>\n",
       "      <th>Attachments</th>\n",
       "      <th>Reactions</th>\n",
       "    </tr>\n",
       "  </thead>\n",
       "  <tbody>\n",
       "    <tr>\n",
       "      <th>0</th>\n",
       "      <td>216945235194806272</td>\n",
       "      <td>Brian#6170</td>\n",
       "      <td>27-Sep-21 03:43 PM</td>\n",
       "      <td>Hey hopefully someone sees this</td>\n",
       "      <td>NaN</td>\n",
       "      <td>👍 (1)</td>\n",
       "    </tr>\n",
       "    <tr>\n",
       "      <th>1</th>\n",
       "      <td>266605113383190528</td>\n",
       "      <td>Tyler#5511</td>\n",
       "      <td>27-Sep-21 03:43 PM</td>\n",
       "      <td>Good luck everyone</td>\n",
       "      <td>NaN</td>\n",
       "      <td>NaN</td>\n",
       "    </tr>\n",
       "    <tr>\n",
       "      <th>2</th>\n",
       "      <td>216945235194806272</td>\n",
       "      <td>Brian#6170</td>\n",
       "      <td>27-Sep-21 03:43 PM</td>\n",
       "      <td>I was a little confused about this question, w...</td>\n",
       "      <td>https://cdn.discordapp.com/attachments/8921470...</td>\n",
       "      <td>NaN</td>\n",
       "    </tr>\n",
       "    <tr>\n",
       "      <th>3</th>\n",
       "      <td>266605113383190528</td>\n",
       "      <td>Tyler#5511</td>\n",
       "      <td>27-Sep-21 03:45 PM</td>\n",
       "      <td>It should be setNumLayers since thickFrosting ...</td>\n",
       "      <td>NaN</td>\n",
       "      <td>👍 (1)</td>\n",
       "    </tr>\n",
       "    <tr>\n",
       "      <th>4</th>\n",
       "      <td>694654810758053991</td>\n",
       "      <td>kingcobra121#3810</td>\n",
       "      <td>27-Sep-21 03:51 PM</td>\n",
       "      <td>hey @Tyler</td>\n",
       "      <td>NaN</td>\n",
       "      <td>👋 (1)</td>\n",
       "    </tr>\n",
       "  </tbody>\n",
       "</table>\n",
       "</div>"
      ],
      "text/plain": [
       "             AuthorID             Author                Date  \\\n",
       "0  216945235194806272         Brian#6170  27-Sep-21 03:43 PM   \n",
       "1  266605113383190528         Tyler#5511  27-Sep-21 03:43 PM   \n",
       "2  216945235194806272         Brian#6170  27-Sep-21 03:43 PM   \n",
       "3  266605113383190528         Tyler#5511  27-Sep-21 03:45 PM   \n",
       "4  694654810758053991  kingcobra121#3810  27-Sep-21 03:51 PM   \n",
       "\n",
       "                                             Content  \\\n",
       "0                    Hey hopefully someone sees this   \n",
       "1                                 Good luck everyone   \n",
       "2  I was a little confused about this question, w...   \n",
       "3  It should be setNumLayers since thickFrosting ...   \n",
       "4                                         hey @Tyler   \n",
       "\n",
       "                                         Attachments Reactions  \n",
       "0                                                NaN     👍 (1)  \n",
       "1                                                NaN       NaN  \n",
       "2  https://cdn.discordapp.com/attachments/8921470...       NaN  \n",
       "3                                                NaN     👍 (1)  \n",
       "4                                                NaN     👋 (1)  "
      ]
     },
     "execution_count": 92,
     "metadata": {},
     "output_type": "execute_result"
    }
   ],
   "source": [
    "import numpy as np\n",
    "import pandas as pd\n",
    "\n",
    "df = pd.read_csv('discord_data/exam.csv')\n",
    "df.head()"
   ]
  },
  {
   "cell_type": "code",
   "execution_count": 93,
   "metadata": {},
   "outputs": [],
   "source": [
    "df = df.drop(['Reactions','Author','Attachments','Reactions','Date'],1)"
   ]
  },
  {
   "cell_type": "code",
   "execution_count": 94,
   "metadata": {},
   "outputs": [
    {
     "data": {
      "text/html": [
       "<div>\n",
       "<style scoped>\n",
       "    .dataframe tbody tr th:only-of-type {\n",
       "        vertical-align: middle;\n",
       "    }\n",
       "\n",
       "    .dataframe tbody tr th {\n",
       "        vertical-align: top;\n",
       "    }\n",
       "\n",
       "    .dataframe thead th {\n",
       "        text-align: right;\n",
       "    }\n",
       "</style>\n",
       "<table border=\"1\" class=\"dataframe\">\n",
       "  <thead>\n",
       "    <tr style=\"text-align: right;\">\n",
       "      <th></th>\n",
       "      <th>AuthorID</th>\n",
       "      <th>Content</th>\n",
       "    </tr>\n",
       "  </thead>\n",
       "  <tbody>\n",
       "    <tr>\n",
       "      <th>0</th>\n",
       "      <td>216945235194806272</td>\n",
       "      <td>Hey hopefully someone sees this</td>\n",
       "    </tr>\n",
       "    <tr>\n",
       "      <th>1</th>\n",
       "      <td>266605113383190528</td>\n",
       "      <td>Good luck everyone</td>\n",
       "    </tr>\n",
       "    <tr>\n",
       "      <th>2</th>\n",
       "      <td>216945235194806272</td>\n",
       "      <td>I was a little confused about this question, w...</td>\n",
       "    </tr>\n",
       "    <tr>\n",
       "      <th>3</th>\n",
       "      <td>266605113383190528</td>\n",
       "      <td>It should be setNumLayers since thickFrosting ...</td>\n",
       "    </tr>\n",
       "    <tr>\n",
       "      <th>4</th>\n",
       "      <td>694654810758053991</td>\n",
       "      <td>hey @Tyler</td>\n",
       "    </tr>\n",
       "  </tbody>\n",
       "</table>\n",
       "</div>"
      ],
      "text/plain": [
       "             AuthorID                                            Content\n",
       "0  216945235194806272                    Hey hopefully someone sees this\n",
       "1  266605113383190528                                 Good luck everyone\n",
       "2  216945235194806272  I was a little confused about this question, w...\n",
       "3  266605113383190528  It should be setNumLayers since thickFrosting ...\n",
       "4  694654810758053991                                         hey @Tyler"
      ]
     },
     "execution_count": 94,
     "metadata": {},
     "output_type": "execute_result"
    }
   ],
   "source": [
    "df.head()"
   ]
  },
  {
   "cell_type": "code",
   "execution_count": 95,
   "metadata": {},
   "outputs": [],
   "source": [
    "content_list = df['Content'].tolist()"
   ]
  },
  {
   "cell_type": "code",
   "execution_count": 96,
   "metadata": {},
   "outputs": [
    {
     "name": "stdout",
     "output_type": "stream",
     "text": [
      "4868\n"
     ]
    }
   ],
   "source": [
    "content_list_new = []\n",
    "n = len(content_list)\n",
    "for i in range(n):\n",
    "    if (isinstance(content_list[i],str)):\n",
    "        content_list_new.append(content_list[i])\n",
    "print(n)"
   ]
  },
  {
   "cell_type": "code",
   "execution_count": 97,
   "metadata": {},
   "outputs": [],
   "source": [
    "n = len(content_list_new)"
   ]
  },
  {
   "cell_type": "code",
   "execution_count": 98,
   "metadata": {},
   "outputs": [],
   "source": [
    "def contain_question_mark(s):\n",
    "    n = len(s)\n",
    "    for i in range(n):\n",
    "        if (s[i] == '?'):\n",
    "            return True\n",
    "    return False\n"
   ]
  },
  {
   "cell_type": "code",
   "execution_count": 99,
   "metadata": {},
   "outputs": [
    {
     "name": "stdout",
     "output_type": "stream",
     "text": [
      "4722\n"
     ]
    }
   ],
   "source": [
    "question = []\n",
    "ans1 = []\n",
    "ans2 = []\n",
    "ans3 = []\n",
    "\n",
    "n = len(content_list_new)\n",
    "print(n)\n",
    "                "
   ]
  },
  {
   "cell_type": "code",
   "execution_count": 100,
   "metadata": {},
   "outputs": [],
   "source": [
    "for i in range(n-3):\n",
    "    temp = content_list_new[i]\n",
    "    if (contain_question_mark(temp)):\n",
    "        question.append(temp)\n",
    "        ans1.append(content_list_new[i+1])\n",
    "        ans2.append(content_list_new[i+2])\n",
    "        ans3.append(content_list_new[i+3])"
   ]
  },
  {
   "cell_type": "code",
   "execution_count": 101,
   "metadata": {},
   "outputs": [],
   "source": [
    "new_df  = pd.DataFrame(list(zip(question,ans1, ans2,ans3)),\n",
    "               columns =['question', 'ans1','ans2','ans3'])"
   ]
  },
  {
   "cell_type": "code",
   "execution_count": 102,
   "metadata": {},
   "outputs": [
    {
     "data": {
      "text/html": [
       "<div>\n",
       "<style scoped>\n",
       "    .dataframe tbody tr th:only-of-type {\n",
       "        vertical-align: middle;\n",
       "    }\n",
       "\n",
       "    .dataframe tbody tr th {\n",
       "        vertical-align: top;\n",
       "    }\n",
       "\n",
       "    .dataframe thead th {\n",
       "        text-align: right;\n",
       "    }\n",
       "</style>\n",
       "<table border=\"1\" class=\"dataframe\">\n",
       "  <thead>\n",
       "    <tr style=\"text-align: right;\">\n",
       "      <th></th>\n",
       "      <th>question</th>\n",
       "      <th>ans1</th>\n",
       "      <th>ans2</th>\n",
       "      <th>ans3</th>\n",
       "    </tr>\n",
       "  </thead>\n",
       "  <tbody>\n",
       "    <tr>\n",
       "      <th>0</th>\n",
       "      <td>Since we have an exam this week, Do we still h...</td>\n",
       "      <td>You still have lab and it is the same schedule...</td>\n",
       "      <td>Is there some place that says what is covered ...</td>\n",
       "      <td>https://courses.engr.illinois.edu/cs225/fa2021...</td>\n",
       "    </tr>\n",
       "    <tr>\n",
       "      <th>1</th>\n",
       "      <td>Is there some place that says what is covered ...</td>\n",
       "      <td>https://courses.engr.illinois.edu/cs225/fa2021...</td>\n",
       "      <td>And specifically https://courses.engr.illinois...</td>\n",
       "      <td>ok thank you</td>\n",
       "    </tr>\n",
       "    <tr>\n",
       "      <th>2</th>\n",
       "      <td>How similar are the exams going to be to the p...</td>\n",
       "      <td>how do you get the multiply by 2 and add n for...</td>\n",
       "      <td>wouldn't this be 2S(n/2) + 2n?</td>\n",
       "      <td>just n at the end, cuz theres only one merge</td>\n",
       "    </tr>\n",
       "    <tr>\n",
       "      <th>3</th>\n",
       "      <td>how do you get the multiply by 2 and add n for...</td>\n",
       "      <td>wouldn't this be 2S(n/2) + 2n?</td>\n",
       "      <td>just n at the end, cuz theres only one merge</td>\n",
       "      <td>this was asked on Piazza as well, but are the ...</td>\n",
       "    </tr>\n",
       "    <tr>\n",
       "      <th>4</th>\n",
       "      <td>wouldn't this be 2S(n/2) + 2n?</td>\n",
       "      <td>just n at the end, cuz theres only one merge</td>\n",
       "      <td>this was asked on Piazza as well, but are the ...</td>\n",
       "      <td>they better be</td>\n",
       "    </tr>\n",
       "    <tr>\n",
       "      <th>5</th>\n",
       "      <td>this was asked on Piazza as well, but are the ...</td>\n",
       "      <td>they better be</td>\n",
       "      <td>Can anyone point out and explain which two are...</td>\n",
       "      <td>I understand e is def correct</td>\n",
       "    </tr>\n",
       "    <tr>\n",
       "      <th>6</th>\n",
       "      <td>Can anyone point out and explain which two are...</td>\n",
       "      <td>I understand e is def correct</td>\n",
       "      <td>D</td>\n",
       "      <td>As well</td>\n",
       "    </tr>\n",
       "    <tr>\n",
       "      <th>7</th>\n",
       "      <td>What is an operator&lt;&lt; is for an iterator? Why ...</td>\n",
       "      <td>operator&lt;&lt; is the output stream override. The ...</td>\n",
       "      <td>Ohhhh. Thanks</td>\n",
       "      <td>They are quite similar in question style and s...</td>\n",
       "    </tr>\n",
       "    <tr>\n",
       "      <th>8</th>\n",
       "      <td>Ah, will the exam be longer?</td>\n",
       "      <td>I am afraid I don't have an answer to that I t...</td>\n",
       "      <td>The practice exams are available now until the...</td>\n",
       "      <td>Similar mostly the practice is just pulling fr...</td>\n",
       "    </tr>\n",
       "    <tr>\n",
       "      <th>9</th>\n",
       "      <td>Do this question assume deleting the data does...</td>\n",
       "      <td>It is unsorted so you can swap the element to ...</td>\n",
       "      <td>Ok, that makes sense</td>\n",
       "      <td>Does \"implemented in the best possible way\" me...</td>\n",
       "    </tr>\n",
       "  </tbody>\n",
       "</table>\n",
       "</div>"
      ],
      "text/plain": [
       "                                            question  \\\n",
       "0  Since we have an exam this week, Do we still h...   \n",
       "1  Is there some place that says what is covered ...   \n",
       "2  How similar are the exams going to be to the p...   \n",
       "3  how do you get the multiply by 2 and add n for...   \n",
       "4                     wouldn't this be 2S(n/2) + 2n?   \n",
       "5  this was asked on Piazza as well, but are the ...   \n",
       "6  Can anyone point out and explain which two are...   \n",
       "7  What is an operator<< is for an iterator? Why ...   \n",
       "8                       Ah, will the exam be longer?   \n",
       "9  Do this question assume deleting the data does...   \n",
       "\n",
       "                                                ans1  \\\n",
       "0  You still have lab and it is the same schedule...   \n",
       "1  https://courses.engr.illinois.edu/cs225/fa2021...   \n",
       "2  how do you get the multiply by 2 and add n for...   \n",
       "3                     wouldn't this be 2S(n/2) + 2n?   \n",
       "4       just n at the end, cuz theres only one merge   \n",
       "5                                     they better be   \n",
       "6                      I understand e is def correct   \n",
       "7  operator<< is the output stream override. The ...   \n",
       "8  I am afraid I don't have an answer to that I t...   \n",
       "9  It is unsorted so you can swap the element to ...   \n",
       "\n",
       "                                                ans2  \\\n",
       "0  Is there some place that says what is covered ...   \n",
       "1  And specifically https://courses.engr.illinois...   \n",
       "2                     wouldn't this be 2S(n/2) + 2n?   \n",
       "3       just n at the end, cuz theres only one merge   \n",
       "4  this was asked on Piazza as well, but are the ...   \n",
       "5  Can anyone point out and explain which two are...   \n",
       "6                                                  D   \n",
       "7                                      Ohhhh. Thanks   \n",
       "8  The practice exams are available now until the...   \n",
       "9                               Ok, that makes sense   \n",
       "\n",
       "                                                ans3  \n",
       "0  https://courses.engr.illinois.edu/cs225/fa2021...  \n",
       "1                                       ok thank you  \n",
       "2       just n at the end, cuz theres only one merge  \n",
       "3  this was asked on Piazza as well, but are the ...  \n",
       "4                                     they better be  \n",
       "5                      I understand e is def correct  \n",
       "6                                            As well  \n",
       "7  They are quite similar in question style and s...  \n",
       "8  Similar mostly the practice is just pulling fr...  \n",
       "9  Does \"implemented in the best possible way\" me...  "
      ]
     },
     "execution_count": 102,
     "metadata": {},
     "output_type": "execute_result"
    }
   ],
   "source": [
    "new_df.head(10)"
   ]
  },
  {
   "cell_type": "code",
   "execution_count": 106,
   "metadata": {},
   "outputs": [],
   "source": [
    "new_df.to_csv (r'/Users/fengbin/Documents/eunice/eunice/q_a.csv', index = False, header=True)"
   ]
  },
  {
   "cell_type": "code",
   "execution_count": null,
   "metadata": {},
   "outputs": [],
   "source": []
  }
 ],
 "metadata": {
  "kernelspec": {
   "display_name": "Python 3",
   "language": "python",
   "name": "python3"
  }
 },
 "nbformat": 4,
 "nbformat_minor": 2
}
